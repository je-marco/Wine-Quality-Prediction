{
 "cells": [
  {
   "cell_type": "code",
   "execution_count": 6,
   "id": "ea2aaa41-0f87-4d11-a4bf-3e467f7071a4",
   "metadata": {},
   "outputs": [],
   "source": [
    "import scipy.stats as stats"
   ]
  },
  {
   "cell_type": "code",
   "execution_count": 20,
   "id": "5a5f5faa-d915-4e38-bb70-9c9c4af33ff3",
   "metadata": {},
   "outputs": [
    {
     "name": "stdout",
     "output_type": "stream",
     "text": [
      "2.1447866879169273\n",
      "0.975\n"
     ]
    }
   ],
   "source": [
    "ci = 95\n",
    "n = 15\n",
    "# stats.t.ppf(alpha, dof)\n",
    "# alpha = 100-ci/100\n",
    "t = stats.t.ppf(1-((100-ci)/2/100), n-1)\n",
    "print(t)\n",
    "print(1- ((100-ci)/2/100))"
   ]
  },
  {
   "cell_type": "code",
   "execution_count": 29,
   "id": "91b36347-68f2-460d-8eb3-74cc61bd08a3",
   "metadata": {},
   "outputs": [
    {
     "name": "stdout",
     "output_type": "stream",
     "text": [
      "2.1447866879169273\n"
     ]
    }
   ],
   "source": [
    "ci = 0.95\n",
    "n = 15\n",
    "q = 1-(1-ci)/2\n",
    "\n",
    "\n",
    "t = stats.t.ppf(q, n-1)\n",
    "print(t)"
   ]
  },
  {
   "cell_type": "markdown",
   "id": "24d12009-1cc3-4351-8904-c1f14c29f6ed",
   "metadata": {},
   "source": [
    "* To get a 95% margin of error, you want 5% of the probability to be in the tails of the distribution. \n",
    "* This is usually done symmetrically so that 2.5% is in each tail.\n",
    "* So you would use q values of 0.975"
   ]
  },
  {
   "cell_type": "code",
   "execution_count": 30,
   "id": "b7c31a7c-4da8-4af0-8d7d-31292d29c14c",
   "metadata": {},
   "outputs": [
    {
     "data": {
      "text/plain": [
       "1.959963984540054"
      ]
     },
     "execution_count": 30,
     "metadata": {},
     "output_type": "execute_result"
    }
   ],
   "source": [
    "ci = 0.95\n",
    "q = 1-(1-ci)/2\n",
    "\n",
    "stats.norm.ppf(q)"
   ]
  },
  {
   "cell_type": "code",
   "execution_count": 31,
   "id": "3512b855-de09-4210-8cba-fcb612358d10",
   "metadata": {},
   "outputs": [
    {
     "data": {
      "text/plain": [
       "2.5758293035489004"
      ]
     },
     "execution_count": 31,
     "metadata": {},
     "output_type": "execute_result"
    }
   ],
   "source": [
    "ci = 0.99\n",
    "q = 1-(1-ci)/2\n",
    "\n",
    "stats.norm.ppf(q)"
   ]
  }
 ],
 "metadata": {
  "kernelspec": {
   "display_name": "Python 3 (ipykernel)",
   "language": "python",
   "name": "python3"
  },
  "language_info": {
   "codemirror_mode": {
    "name": "ipython",
    "version": 3
   },
   "file_extension": ".py",
   "mimetype": "text/x-python",
   "name": "python",
   "nbconvert_exporter": "python",
   "pygments_lexer": "ipython3",
   "version": "3.12.3"
  }
 },
 "nbformat": 4,
 "nbformat_minor": 5
}
